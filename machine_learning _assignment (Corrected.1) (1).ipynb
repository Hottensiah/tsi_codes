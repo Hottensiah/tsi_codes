{
 "cells": [
  {
   "cell_type": "markdown",
   "id": "5f578788",
   "metadata": {},
   "source": [
    "# BUILDING A (SUPERVISED CLASSSIFICATION)MACHINE LEARNING MODEL:(MULTIPLE LINEAR)"
   ]
  },
  {
   "cell_type": "markdown",
   "id": "78f8565d",
   "metadata": {},
   "source": [
    "Stages in building a machine learning model\n",
    "1.Defining the problem \n",
    "2.Building the dataset \n",
    "3.Training the model \n",
    "4.Evaluating the model \n",
    "5.Using/deploying the model"
   ]
  },
  {
   "cell_type": "markdown",
   "id": "80d8ece7",
   "metadata": {},
   "source": [
    "# 1.DEFINING THE PROBLEM\n",
    "You are required to use the attached dataset, adventurework sales.xlsx, to build three different machine learning models that are to be deployed into our website for optimization. The dataset has 24 columns and 80 rows, a typical wide, but rather small dataset. Do not worry though, it will serve our purpose!\n",
    "Task 1.we would like you to model the relationship between the \"Order Total\" amount and the set of predictors that include \"product price\", \"Product Weight\", \"Product size\", \"Order Quantity\", \"Product Color\", \"Customer Location\" and \"Customer Feedback\". This task would involve some feature engineering on the non-numerical columns. Kindly review the feature engineering notes and explain clearly what type of feature engineering is important in this case. Moreover, put down the python function that performs the task. Task 2: Consider the column “Shipping Method”. What would be the appropriate shipping method for a product that is worth $3200, is of size M, originates from Europe, weighs 22 pounds and is destined for a customer in Canada? Task3: Lastly, consider the column “Product Size”. To what size would you classify the product in Task 2 above?\n",
    "\n",
    "\n",
    "\n",
    "##Null Hypothesis (H0): There is no significant relationship between the \"Order Total\" amount and the set of predictors including \"product price\", \"Product Weight\", \"Product size\", \"Order Quantity\", \"Product Color\", \"Customer Location\", and \"Customer Feedback\".\n",
    "Alternative Hypothesis \n",
    "\n",
    "\n",
    "\n",
    "##(H1): There is a significant relationship between the \"Order Total\" amount and at least one of the predictors including \"product price\", \"Product Weight\", \"Product size\", \"Order Quantity\", \"Product Color\", \"Customer Location\", and \"Customer Feedback\"."
   ]
  },
  {
   "cell_type": "markdown",
   "id": "f326e84c",
   "metadata": {},
   "source": [
    "# 2.BUILDING THE DATASET\n",
    "1.Imports \n",
    "2.Data cleaning and exploration\n",
    "3.feature engineering where applicable \n",
    "4.Exploratory data analysis\n",
    "5.DataVisualisation"
   ]
  },
  {
   "cell_type": "code",
   "execution_count": 11,
   "id": "06333adc",
   "metadata": {},
   "outputs": [],
   "source": [
    "import pandas as pd\n",
    "import numpy as np\n",
    "import seaborn as sns\n",
    "import matplotlib.pyplot as plt\n",
    "import statsmodels as sm\n",
    "import statsmodels.api as sm\n",
    "from sklearn.model_selection import train_test_split as tts\n",
    "from sklearn.linear_model import LogisticRegression\n",
    "from sklearn import datasets\n",
    "from sklearn.metrics import accuracy_score, classification_report\n",
    "from sklearn.compose import ColumnTransformer\n",
    "from sklearn.preprocessing import OneHotEncoder, StandardScaler\n",
    "from sklearn.impute import SimpleImputer\n",
    "from sklearn.pipeline import Pipeline\n",
    "import pandas as pd\n",
    "from sklearn.model_selection import train_test_split\n",
    "from sklearn.preprocessing import LabelEncoder\n",
    "from sklearn.ensemble import RandomForestRegressor\n",
    "from sklearn.linear_model import LinearRegression\n",
    "from sklearn.metrics import mean_squared_error\n",
    "import warnings\n",
    "warnings.filterwarnings(\"ignore\")"
   ]
  },
  {
   "cell_type": "code",
   "execution_count": 2,
   "id": "48354e1a",
   "metadata": {},
   "outputs": [],
   "source": [
    "df=pd.read_excel(r\"C:\\Users\\HOTTENSIAH\\Desktop\\DATA SCIENCE COURSE\\Excel workbooks\\adventurework sales.xlsx\")"
   ]
  },
  {
   "cell_type": "code",
   "execution_count": 3,
   "id": "a6340c84",
   "metadata": {},
   "outputs": [
    {
     "data": {
      "text/html": [
       "<div>\n",
       "<style scoped>\n",
       "    .dataframe tbody tr th:only-of-type {\n",
       "        vertical-align: middle;\n",
       "    }\n",
       "\n",
       "    .dataframe tbody tr th {\n",
       "        vertical-align: top;\n",
       "    }\n",
       "\n",
       "    .dataframe thead th {\n",
       "        text-align: right;\n",
       "    }\n",
       "</style>\n",
       "<table border=\"1\" class=\"dataframe\">\n",
       "  <thead>\n",
       "    <tr style=\"text-align: right;\">\n",
       "      <th></th>\n",
       "      <th>Product ID</th>\n",
       "      <th>Product Category</th>\n",
       "      <th>Product Subcategory</th>\n",
       "      <th>Product Name</th>\n",
       "      <th>Product Description</th>\n",
       "      <th>Product Price</th>\n",
       "      <th>Product Weight</th>\n",
       "      <th>Product Size</th>\n",
       "      <th>Product Region</th>\n",
       "      <th>Product Color</th>\n",
       "      <th>...</th>\n",
       "      <th>Original Order Date</th>\n",
       "      <th>Order Status</th>\n",
       "      <th>Order Quantity</th>\n",
       "      <th>Order Total</th>\n",
       "      <th>Payment Method</th>\n",
       "      <th>Shipping Method</th>\n",
       "      <th>Shipping Time (in Days)</th>\n",
       "      <th>Estimated Delivery Date</th>\n",
       "      <th>Customer Feedback</th>\n",
       "      <th>Order Date</th>\n",
       "    </tr>\n",
       "  </thead>\n",
       "  <tbody>\n",
       "    <tr>\n",
       "      <th>0</th>\n",
       "      <td>1001</td>\n",
       "      <td>Mountain Bikes</td>\n",
       "      <td>Cross Country</td>\n",
       "      <td>TrailBlazer 1000</td>\n",
       "      <td>Lightweight and versatile</td>\n",
       "      <td>1200</td>\n",
       "      <td>25</td>\n",
       "      <td>M</td>\n",
       "      <td>North America</td>\n",
       "      <td>Red</td>\n",
       "      <td>...</td>\n",
       "      <td>2023-04-01</td>\n",
       "      <td>Shipped</td>\n",
       "      <td>4</td>\n",
       "      <td>4800</td>\n",
       "      <td>Credit Card</td>\n",
       "      <td>Ground</td>\n",
       "      <td>3</td>\n",
       "      <td>2023-04-04</td>\n",
       "      <td>Positive</td>\n",
       "      <td>2023-03-01</td>\n",
       "    </tr>\n",
       "    <tr>\n",
       "      <th>1</th>\n",
       "      <td>1002</td>\n",
       "      <td>Mountain Bikes</td>\n",
       "      <td>Cross Country</td>\n",
       "      <td>TrailBlazer 2000</td>\n",
       "      <td>High-performance mountain bike</td>\n",
       "      <td>1500</td>\n",
       "      <td>22</td>\n",
       "      <td>L</td>\n",
       "      <td>Europe</td>\n",
       "      <td>Blue</td>\n",
       "      <td>...</td>\n",
       "      <td>2023-04-02</td>\n",
       "      <td>Processing</td>\n",
       "      <td>2</td>\n",
       "      <td>3000</td>\n",
       "      <td>PayPal</td>\n",
       "      <td>Air</td>\n",
       "      <td>2</td>\n",
       "      <td>2023-04-03</td>\n",
       "      <td>Neutral</td>\n",
       "      <td>2023-03-02</td>\n",
       "    </tr>\n",
       "    <tr>\n",
       "      <th>2</th>\n",
       "      <td>1003</td>\n",
       "      <td>Road Bikes</td>\n",
       "      <td>Racing</td>\n",
       "      <td>SpeedMaster 1000</td>\n",
       "      <td>Agile and aerodynamic road bike</td>\n",
       "      <td>1800</td>\n",
       "      <td>18</td>\n",
       "      <td>M</td>\n",
       "      <td>Asia</td>\n",
       "      <td>Yellow</td>\n",
       "      <td>...</td>\n",
       "      <td>2023-04-03</td>\n",
       "      <td>Cancelled</td>\n",
       "      <td>1</td>\n",
       "      <td>1800</td>\n",
       "      <td>Credit Card</td>\n",
       "      <td>Ground</td>\n",
       "      <td>5</td>\n",
       "      <td>2023-04-07</td>\n",
       "      <td>Positive</td>\n",
       "      <td>2023-03-03</td>\n",
       "    </tr>\n",
       "    <tr>\n",
       "      <th>3</th>\n",
       "      <td>1004</td>\n",
       "      <td>Road Bikes</td>\n",
       "      <td>Racing</td>\n",
       "      <td>SpeedMaster 2000</td>\n",
       "      <td>Premium racing road bike</td>\n",
       "      <td>2100</td>\n",
       "      <td>16</td>\n",
       "      <td>L</td>\n",
       "      <td>North America</td>\n",
       "      <td>Black</td>\n",
       "      <td>...</td>\n",
       "      <td>2023-04-04</td>\n",
       "      <td>Shipped</td>\n",
       "      <td>2</td>\n",
       "      <td>4200</td>\n",
       "      <td>Credit Card</td>\n",
       "      <td>Air</td>\n",
       "      <td>1</td>\n",
       "      <td>2023-04-04</td>\n",
       "      <td>Negative</td>\n",
       "      <td>2023-03-04</td>\n",
       "    </tr>\n",
       "    <tr>\n",
       "      <th>4</th>\n",
       "      <td>1005</td>\n",
       "      <td>Touring Bikes</td>\n",
       "      <td>Long Distance</td>\n",
       "      <td>Explorer 1000</td>\n",
       "      <td>Comfortable and durable touring bike</td>\n",
       "      <td>1300</td>\n",
       "      <td>27</td>\n",
       "      <td>M</td>\n",
       "      <td>Europe</td>\n",
       "      <td>Green</td>\n",
       "      <td>...</td>\n",
       "      <td>2023-04-05</td>\n",
       "      <td>Processing</td>\n",
       "      <td>1</td>\n",
       "      <td>1300</td>\n",
       "      <td>PayPal</td>\n",
       "      <td>Ground</td>\n",
       "      <td>4</td>\n",
       "      <td>2023-04-08</td>\n",
       "      <td>Positive</td>\n",
       "      <td>2023-03-05</td>\n",
       "    </tr>\n",
       "    <tr>\n",
       "      <th>5</th>\n",
       "      <td>1006</td>\n",
       "      <td>Touring Bikes</td>\n",
       "      <td>Long Distance</td>\n",
       "      <td>Explorer 2000</td>\n",
       "      <td>Advanced touring bike</td>\n",
       "      <td>1600</td>\n",
       "      <td>24</td>\n",
       "      <td>L</td>\n",
       "      <td>Europe</td>\n",
       "      <td>Red</td>\n",
       "      <td>...</td>\n",
       "      <td>2023-04-06</td>\n",
       "      <td>Shipped</td>\n",
       "      <td>3</td>\n",
       "      <td>4800</td>\n",
       "      <td>Credit Card</td>\n",
       "      <td>Air</td>\n",
       "      <td>2</td>\n",
       "      <td>2023-04-07</td>\n",
       "      <td>Positive</td>\n",
       "      <td>2023-03-06</td>\n",
       "    </tr>\n",
       "    <tr>\n",
       "      <th>6</th>\n",
       "      <td>1007</td>\n",
       "      <td>Mountain Bikes</td>\n",
       "      <td>Downhill</td>\n",
       "      <td>GravityMaster 1000</td>\n",
       "      <td>Rugged and durable downhill bike</td>\n",
       "      <td>2200</td>\n",
       "      <td>29</td>\n",
       "      <td>M</td>\n",
       "      <td>Asia</td>\n",
       "      <td>Orange</td>\n",
       "      <td>...</td>\n",
       "      <td>2023-04-07</td>\n",
       "      <td>Shipped</td>\n",
       "      <td>2</td>\n",
       "      <td>4400</td>\n",
       "      <td>PayPal</td>\n",
       "      <td>Ground</td>\n",
       "      <td>5</td>\n",
       "      <td>2023-04-11</td>\n",
       "      <td>Negative</td>\n",
       "      <td>2023-03-07</td>\n",
       "    </tr>\n",
       "    <tr>\n",
       "      <th>7</th>\n",
       "      <td>1008</td>\n",
       "      <td>Mountain Bikes</td>\n",
       "      <td>Downhill</td>\n",
       "      <td>GravityMaster 2000</td>\n",
       "      <td>Rugged and durable downhill bike</td>\n",
       "      <td>2500</td>\n",
       "      <td>27</td>\n",
       "      <td>L</td>\n",
       "      <td>North America</td>\n",
       "      <td>White</td>\n",
       "      <td>...</td>\n",
       "      <td>2023-04-08</td>\n",
       "      <td>Processing</td>\n",
       "      <td>4</td>\n",
       "      <td>10000</td>\n",
       "      <td>Credit Card</td>\n",
       "      <td>Air</td>\n",
       "      <td>1</td>\n",
       "      <td>2023-04-08</td>\n",
       "      <td>Positive</td>\n",
       "      <td>2023-03-08</td>\n",
       "    </tr>\n",
       "    <tr>\n",
       "      <th>8</th>\n",
       "      <td>1021</td>\n",
       "      <td>Mountain Bikes</td>\n",
       "      <td>Trail</td>\n",
       "      <td>Pathfinder 1000</td>\n",
       "      <td>Agile trail bike for all skill levels</td>\n",
       "      <td>1100</td>\n",
       "      <td>24</td>\n",
       "      <td>M</td>\n",
       "      <td>Europe</td>\n",
       "      <td>Blue</td>\n",
       "      <td>...</td>\n",
       "      <td>2023-04-21</td>\n",
       "      <td>Shipped</td>\n",
       "      <td>5</td>\n",
       "      <td>5500</td>\n",
       "      <td>Credit Card</td>\n",
       "      <td>Ground</td>\n",
       "      <td>4</td>\n",
       "      <td>2023-04-12</td>\n",
       "      <td>Neutral</td>\n",
       "      <td>2023-03-21</td>\n",
       "    </tr>\n",
       "    <tr>\n",
       "      <th>9</th>\n",
       "      <td>1022</td>\n",
       "      <td>Mountain Bikes</td>\n",
       "      <td>Trail</td>\n",
       "      <td>Pathfinder 2000</td>\n",
       "      <td>High-performance trail bike</td>\n",
       "      <td>1400</td>\n",
       "      <td>21</td>\n",
       "      <td>L</td>\n",
       "      <td>Europe</td>\n",
       "      <td>Red</td>\n",
       "      <td>...</td>\n",
       "      <td>2023-04-22</td>\n",
       "      <td>Processing</td>\n",
       "      <td>1</td>\n",
       "      <td>1400</td>\n",
       "      <td>PayPal</td>\n",
       "      <td>Air</td>\n",
       "      <td>2</td>\n",
       "      <td>2023-04-14</td>\n",
       "      <td>Positive</td>\n",
       "      <td>2023-03-22</td>\n",
       "    </tr>\n",
       "  </tbody>\n",
       "</table>\n",
       "<p>10 rows × 25 columns</p>\n",
       "</div>"
      ],
      "text/plain": [
       "   Product ID Product Category Product Subcategory        Product Name  \\\n",
       "0        1001   Mountain Bikes       Cross Country    TrailBlazer 1000   \n",
       "1        1002   Mountain Bikes       Cross Country    TrailBlazer 2000   \n",
       "2        1003       Road Bikes              Racing    SpeedMaster 1000   \n",
       "3        1004       Road Bikes              Racing    SpeedMaster 2000   \n",
       "4        1005    Touring Bikes       Long Distance       Explorer 1000   \n",
       "5        1006    Touring Bikes       Long Distance       Explorer 2000   \n",
       "6        1007   Mountain Bikes            Downhill  GravityMaster 1000   \n",
       "7        1008   Mountain Bikes            Downhill  GravityMaster 2000   \n",
       "8        1021   Mountain Bikes               Trail     Pathfinder 1000   \n",
       "9        1022   Mountain Bikes               Trail     Pathfinder 2000   \n",
       "\n",
       "                     Product Description  Product Price  Product Weight  \\\n",
       "0              Lightweight and versatile           1200              25   \n",
       "1         High-performance mountain bike           1500              22   \n",
       "2        Agile and aerodynamic road bike           1800              18   \n",
       "3               Premium racing road bike           2100              16   \n",
       "4   Comfortable and durable touring bike           1300              27   \n",
       "5                  Advanced touring bike           1600              24   \n",
       "6       Rugged and durable downhill bike           2200              29   \n",
       "7       Rugged and durable downhill bike           2500              27   \n",
       "8  Agile trail bike for all skill levels           1100              24   \n",
       "9            High-performance trail bike           1400              21   \n",
       "\n",
       "  Product Size Product Region Product Color  ...  Original Order Date  \\\n",
       "0            M  North America           Red  ...           2023-04-01   \n",
       "1            L         Europe          Blue  ...           2023-04-02   \n",
       "2            M           Asia        Yellow  ...           2023-04-03   \n",
       "3            L  North America         Black  ...           2023-04-04   \n",
       "4            M         Europe         Green  ...           2023-04-05   \n",
       "5            L         Europe           Red  ...           2023-04-06   \n",
       "6            M           Asia        Orange  ...           2023-04-07   \n",
       "7            L  North America         White  ...           2023-04-08   \n",
       "8            M         Europe          Blue  ...           2023-04-21   \n",
       "9            L         Europe           Red  ...           2023-04-22   \n",
       "\n",
       "   Order Status  Order Quantity Order Total Payment Method Shipping Method  \\\n",
       "0       Shipped               4        4800    Credit Card          Ground   \n",
       "1    Processing               2        3000         PayPal             Air   \n",
       "2     Cancelled               1        1800    Credit Card          Ground   \n",
       "3       Shipped               2        4200    Credit Card             Air   \n",
       "4    Processing               1        1300         PayPal          Ground   \n",
       "5       Shipped               3        4800    Credit Card             Air   \n",
       "6       Shipped               2        4400         PayPal          Ground   \n",
       "7    Processing               4       10000    Credit Card             Air   \n",
       "8       Shipped               5        5500    Credit Card          Ground   \n",
       "9    Processing               1        1400         PayPal             Air   \n",
       "\n",
       "  Shipping Time (in Days)  Estimated Delivery Date  Customer Feedback  \\\n",
       "0                       3               2023-04-04           Positive   \n",
       "1                       2               2023-04-03            Neutral   \n",
       "2                       5               2023-04-07           Positive   \n",
       "3                       1               2023-04-04           Negative   \n",
       "4                       4               2023-04-08           Positive   \n",
       "5                       2               2023-04-07           Positive   \n",
       "6                       5               2023-04-11           Negative   \n",
       "7                       1               2023-04-08           Positive   \n",
       "8                       4               2023-04-12            Neutral   \n",
       "9                       2               2023-04-14           Positive   \n",
       "\n",
       "  Order Date  \n",
       "0 2023-03-01  \n",
       "1 2023-03-02  \n",
       "2 2023-03-03  \n",
       "3 2023-03-04  \n",
       "4 2023-03-05  \n",
       "5 2023-03-06  \n",
       "6 2023-03-07  \n",
       "7 2023-03-08  \n",
       "8 2023-03-21  \n",
       "9 2023-03-22  \n",
       "\n",
       "[10 rows x 25 columns]"
      ]
     },
     "execution_count": 3,
     "metadata": {},
     "output_type": "execute_result"
    }
   ],
   "source": [
    "df.head(10)"
   ]
  },
  {
   "cell_type": "code",
   "execution_count": 4,
   "id": "1e1cf807",
   "metadata": {},
   "outputs": [
    {
     "data": {
      "text/plain": [
       "(80, 25)"
      ]
     },
     "execution_count": 4,
     "metadata": {},
     "output_type": "execute_result"
    }
   ],
   "source": [
    "df.shape"
   ]
  },
  {
   "cell_type": "code",
   "execution_count": 8,
   "id": "0544f716",
   "metadata": {},
   "outputs": [
    {
     "data": {
      "text/plain": [
       "Product ID                 0\n",
       "Product Category           0\n",
       "Product Subcategory        0\n",
       "Product Name               0\n",
       "Product Description        0\n",
       "Product Price              0\n",
       "Product Weight             0\n",
       "Product Size               0\n",
       "Product Region             0\n",
       "Product Color              0\n",
       "Product Stock              0\n",
       "Order ID                   0\n",
       "Customer ID                0\n",
       "Customer Name              0\n",
       "Customer Location          0\n",
       "Original Order Date        0\n",
       "Order Status               0\n",
       "Order Quantity             0\n",
       "Order Total                0\n",
       "Payment Method             0\n",
       "Shipping Method            0\n",
       "Shipping Time (in Days)    0\n",
       "Estimated Delivery Date    0\n",
       "Customer Feedback          0\n",
       "Order Date                 0\n",
       "dtype: int64"
      ]
     },
     "execution_count": 8,
     "metadata": {},
     "output_type": "execute_result"
    }
   ],
   "source": [
    "df.isnull().sum()"
   ]
  },
  {
   "cell_type": "code",
   "execution_count": 9,
   "id": "5e5a2df5",
   "metadata": {},
   "outputs": [
    {
     "name": "stdout",
     "output_type": "stream",
     "text": [
      "<class 'pandas.core.frame.DataFrame'>\n",
      "RangeIndex: 80 entries, 0 to 79\n",
      "Data columns (total 25 columns):\n",
      " #   Column                   Non-Null Count  Dtype         \n",
      "---  ------                   --------------  -----         \n",
      " 0   Product ID               80 non-null     int64         \n",
      " 1   Product Category         80 non-null     object        \n",
      " 2   Product Subcategory      80 non-null     object        \n",
      " 3   Product Name             80 non-null     object        \n",
      " 4   Product Description      80 non-null     object        \n",
      " 5   Product Price            80 non-null     int64         \n",
      " 6   Product Weight           80 non-null     int64         \n",
      " 7   Product Size             80 non-null     object        \n",
      " 8   Product Region           80 non-null     object        \n",
      " 9   Product Color            80 non-null     object        \n",
      " 10  Product Stock            80 non-null     int64         \n",
      " 11  Order ID                 80 non-null     int64         \n",
      " 12  Customer ID              80 non-null     int64         \n",
      " 13  Customer Name            80 non-null     object        \n",
      " 14  Customer Location        80 non-null     object        \n",
      " 15  Original Order Date      80 non-null     datetime64[ns]\n",
      " 16  Order Status             80 non-null     object        \n",
      " 17  Order Quantity           80 non-null     int64         \n",
      " 18  Order Total              80 non-null     int64         \n",
      " 19  Payment Method           80 non-null     object        \n",
      " 20  Shipping Method          80 non-null     object        \n",
      " 21  Shipping Time (in Days)  80 non-null     int64         \n",
      " 22  Estimated Delivery Date  80 non-null     datetime64[ns]\n",
      " 23  Customer Feedback        80 non-null     object        \n",
      " 24  Order Date               80 non-null     datetime64[ns]\n",
      "dtypes: datetime64[ns](3), int64(9), object(13)\n",
      "memory usage: 15.8+ KB\n"
     ]
    }
   ],
   "source": [
    "df.info()"
   ]
  },
  {
   "cell_type": "code",
   "execution_count": 10,
   "id": "2173b834",
   "metadata": {},
   "outputs": [
    {
     "data": {
      "text/plain": [
       "Index(['Product ID', 'Product Category', 'Product Subcategory', 'Product Name',\n",
       "       'Product Description', 'Product Price', 'Product Weight',\n",
       "       'Product Size', 'Product Region', 'Product Color', 'Product Stock',\n",
       "       'Order ID', 'Customer ID', 'Customer Name', 'Customer Location',\n",
       "       'Original Order Date', 'Order Status', 'Order Quantity', 'Order Total',\n",
       "       'Payment Method', 'Shipping Method', 'Shipping Time (in Days)',\n",
       "       'Estimated Delivery Date', 'Customer Feedback', 'Order Date'],\n",
       "      dtype='object')"
      ]
     },
     "execution_count": 10,
     "metadata": {},
     "output_type": "execute_result"
    }
   ],
   "source": [
    "df.columns"
   ]
  },
  {
   "cell_type": "code",
   "execution_count": 12,
   "id": "453b2205",
   "metadata": {},
   "outputs": [
    {
     "data": {
      "text/plain": [
       "array(['Mountain Bikes', 'Road Bikes', 'Touring Bikes', 'E-Bikes',\n",
       "       'Hybrid Bikes', 'Kids Bikes', 'BMX Bikes'], dtype=object)"
      ]
     },
     "execution_count": 12,
     "metadata": {},
     "output_type": "execute_result"
    }
   ],
   "source": [
    "df['Product Category'].unique()"
   ]
  },
  {
   "cell_type": "code",
   "execution_count": 19,
   "id": "4e82e8d2",
   "metadata": {},
   "outputs": [],
   "source": [
    "#This is label encoding, a subset of feature engineering used to transform string data types to numericals\n",
    "df['Category_of_product'] = df['Product Category'].map({'Mountain Bikes':0,'Road Bikes':1,'Touring Bikes':2,'E-Bikes':3,'Hybrid Bikes':4,'Kids Bikes':5,'BMX Bikes':6})"
   ]
  },
  {
   "cell_type": "code",
   "execution_count": 14,
   "id": "114f4b3d",
   "metadata": {},
   "outputs": [
    {
     "data": {
      "text/plain": [
       "array(['Cross Country', 'Racing', 'Long Distance', 'Downhill', 'Trail',\n",
       "       'Touring', 'Adventure', 'Enduro', 'Fat Bikes', 'Cyclocross',\n",
       "       'Tandem', 'Electric', 'City', 'Gravel', 'Folding', 'Mountain',\n",
       "       'Commuter', 'Aero', 'Recumbent', 'Balance', 'Freestyle',\n",
       "       'Endurance'], dtype=object)"
      ]
     },
     "execution_count": 14,
     "metadata": {},
     "output_type": "execute_result"
    }
   ],
   "source": [
    "df['Product Subcategory'].unique()"
   ]
  },
  {
   "cell_type": "code",
   "execution_count": 15,
   "id": "24b06c08",
   "metadata": {},
   "outputs": [],
   "source": [
    "df['Subcategory-of_product'] = df['Product Subcategory'].map({'Racing':1,'Long Distance':0,'Downhill':2,'Trail':3,'Touring':4,'Adventure':5,'Enduro':6,'Fat Bikes':7,'Cyclocross':8,'Tandem':9,'Electric':10,'City':11,'Gravel':12,'Folding':13,'Mountain':14,'Commuter':15,'Aero':16,'Recumbent':17,'Balance':18,'Freestyle':19,'Endurance':20})"
   ]
  },
  {
   "cell_type": "code",
   "execution_count": 16,
   "id": "f1349d7c",
   "metadata": {},
   "outputs": [
    {
     "data": {
      "text/plain": [
       "array(['TrailBlazer 1000', 'TrailBlazer 2000', 'SpeedMaster 1000',\n",
       "       'SpeedMaster 2000', 'Explorer 1000', 'Explorer 2000',\n",
       "       'GravityMaster 1000', 'GravityMaster 2000', 'Pathfinder 1000',\n",
       "       'Pathfinder 2000', 'Voyager 1000', 'Voyager 2000',\n",
       "       'Adventurer 1000', 'Adventurer 2000', 'EnduroMaster 1000',\n",
       "       'EnduroMaster 2000', 'FatTrail 1000', 'FatTrail 2000',\n",
       "       'CrossRider 1000', 'CrossRider 2000', 'DuoExplorer 1000',\n",
       "       'DuoExplorer 2000', 'E-Mountain 1000', 'E-Mountain 2000',\n",
       "       'UrbanEco 1000', 'UrbanEco 2000', 'GravelMaster 1000',\n",
       "       'GravelMaster 2000', 'FoldAway 1000', 'FoldAway 2000',\n",
       "       'E-TrailBlazer 1000', 'E-TrailBlazer 2000', 'CommutePro 1000',\n",
       "       'CommutePro 2000', 'AeroSpeed 1000', 'AeroSpeed 2000',\n",
       "       'ReclineRider 1000', 'ReclineRider 2000', 'DownhillDominator 1000',\n",
       "       'DownhillDominator 2000', 'LittleBalancer 1000',\n",
       "       'LittleBalancer 2000', 'FreestyleMaster 1000',\n",
       "       'FreestyleMaster 2000', 'XC-Rider 1000', 'XC-Rider 2000',\n",
       "       'EnduranceElite 1000', 'EnduranceElite 2000'], dtype=object)"
      ]
     },
     "execution_count": 16,
     "metadata": {},
     "output_type": "execute_result"
    }
   ],
   "source": [
    "df['Product Name'].unique()"
   ]
  },
  {
   "cell_type": "code",
   "execution_count": 17,
   "id": "0efb3045",
   "metadata": {},
   "outputs": [],
   "source": [
    "df['Name_Of_Product'] = df['Product Name'].map({'TrailBlazer 1000':0,'TrailBlazer 2000':1,'SpeedMaster 1000':3,'SpeedMaster 2000':4,'Explorer 1000':5,'Explorer 2000':6,'GravityMaster 1000':7,'GravityMaster 2000':8,'Pathfinder 1000':9,'Pathfinder 2000':10, 'Voyager 1000':11,'Voyager 2000':12,'Adventurer 1000':13,'Adventurer 2000':14,'EnduroMaster 1000':15, 'EnduroMaster 2000':16,'FatTrail 1000':17,'FatTrail 2000':18,'CrossRider 1000':19,'CrossRider 2000':20,'DuoExplorer 1000':21,'DuoExplorer 2000':22,'E-Mountain 1000':23,'E-Mountain 2000':24,'UrbanEco 1000':25,'UrbanEco 2000':26,'GravelMaster 1000':27,'GravelMaster 2000':28,'FoldAway 1000':29,'FoldAway 2000':30,'E-TrailBlazer 1000':31,'E-TrailBlazer 2000':32,'CommutePro 1000':33,'CommutePro 2000':34,'AeroSpeed 1000':35, 'AeroSpeed 2000':36,'ReclineRider 1000':37,'ReclineRider 2000':38,'DownhillDominator 1000':39,'DownhillDominator 2000':40,'LittleBalancer 1000':41,'LittleBalancer 2000':42,'FreestyleMaster 1000':43,'FreestyleMaster 2000':44,'XC-Rider 1000':45,'XC-Rider 2000':46,'EnduranceElite 1000':47,'EnduranceElite 2000':48})"
   ]
  },
  {
   "cell_type": "code",
   "execution_count": 18,
   "id": "3faa0dbd",
   "metadata": {},
   "outputs": [
    {
     "data": {
      "text/plain": [
       "array(['Lightweight and versatile', 'High-performance mountain bike',\n",
       "       'Agile and aerodynamic road bike', 'Premium racing road bike',\n",
       "       'Comfortable and durable touring bike', 'Advanced touring bike',\n",
       "       'Rugged and durable downhill bike',\n",
       "       'Agile trail bike for all skill levels',\n",
       "       'High-performance trail bike', 'Comfortable touring road bike',\n",
       "       'Advanced touring road bike', 'Durable bike for long adventures',\n",
       "       'Premium adventure touring bike',\n",
       "       'Endurance-focused mountain bike',\n",
       "       'High-performance enduro mountain bike', 'All-terrain fat bike',\n",
       "       'High-performance fat bike', 'Versatile cyclocross bike',\n",
       "       'Advanced cyclocross bike', 'Comfortable tandem touring bike',\n",
       "       'High-performance tandem touring bike', 'Electric mountain bike',\n",
       "       'High-performance electric mountain bike',\n",
       "       'Eco-friendly electric city bike',\n",
       "       'High-performance electric city bike', 'All-terrain gravel bike',\n",
       "       'High-performance gravel bike', 'Compact folding touring bike',\n",
       "       'Advanced folding touring bike', 'Efficient commuter hybrid bike',\n",
       "       'High-performance commuter hybrid bike', 'Aerodynamic road bike',\n",
       "       'Advanced aerodynamic road bike',\n",
       "       'Comfortable recumbent touring bike',\n",
       "       'High-performance recumbent touring bike',\n",
       "       'Downhill mountain bike',\n",
       "       'High-performance downhill mountain bike',\n",
       "       'Starter balance bike for kids', 'Upgraded balance bike for kids',\n",
       "       'Beginner freestyle BMX bike', 'Advanced freestyle BMX bike',\n",
       "       'Cross country mountain bike',\n",
       "       'High-performance cross country bike', 'Endurance road bike',\n",
       "       'High-performance endurance road bike'], dtype=object)"
      ]
     },
     "execution_count": 18,
     "metadata": {},
     "output_type": "execute_result"
    }
   ],
   "source": [
    "df['Product Description'].unique()"
   ]
  },
  {
   "cell_type": "code",
   "execution_count": 53,
   "id": "9fa579f7",
   "metadata": {},
   "outputs": [],
   "source": [
    "df['Description_of_product'] = df['Product Description'].map({'Lightweight and versatile':0,'High-performance mountain bike':1,'Agile and aerodynamic road bike':2,'Premium racing road bike':3,'Comfortable and durable touring bike':4,'Advanced touring bike':5,'Rugged and durable downhill bike':6,'Agile trail bike for all skill levels':7,'High-performance trail bike':8,'Comfortable touring road bike':9,'Advanced touring road bike':10,'Durable bike for long adventures':11,'Premium adventure touring bike':12,'Endurance-focused mountain bike':13,'High-performance enduro mountain bike':14,'All-terrain fat bike':15,'High-performance fat bike':16,'Versatile cyclocross bike':17,'Advanced cyclocross bike':18,'Comfortable tandem touring bike':19,'High-performance tandem touring bike':20,'Electric mountain bike':21,'High-performance electric mountain bike':22,'Eco-friendly electric city bike':23,'High-performance electric city bike':24,'All-terrain gravel bike':25,'High-performance gravel bike':26,'Compact folding touring bike':27,'Advanced folding touring bike':28,'Efficient commuter hybrid bike':29,'High-performance commuter hybrid bike':30,'Aerodynamic road bike':31,'Advanced aerodynamic road bike':32,'Comfortable recumbent touring bike':33,'High-performance recumbent touring bike':34,'Downhill mountain bike':35,'High-performance downhill mountain bike':36,'Starter balance bike for kids':37,'Upgraded balance bike for kids':38,'Beginner freestyle BMX bike':39,'Advanced freestyle BMX bike':40,'Cross country mountain bike':41,'High-performance cross country bike':42,'Endurance road bike':43,'High-performance endurance road bike':44})"
   ]
  },
  {
   "cell_type": "code",
   "execution_count": 20,
   "id": "7f31b556",
   "metadata": {},
   "outputs": [
    {
     "data": {
      "text/plain": [
       "array(['M', 'L'], dtype=object)"
      ]
     },
     "execution_count": 20,
     "metadata": {},
     "output_type": "execute_result"
    }
   ],
   "source": [
    "df['Product Size'].unique()"
   ]
  },
  {
   "cell_type": "code",
   "execution_count": 21,
   "id": "0858f988",
   "metadata": {},
   "outputs": [],
   "source": [
    "df['Size_of_product'] = df['Product Size'].map({'M':1,'L':0})"
   ]
  },
  {
   "cell_type": "code",
   "execution_count": 22,
   "id": "2b1d86da",
   "metadata": {},
   "outputs": [
    {
     "data": {
      "text/plain": [
       "array(['North America', 'Europe', 'Asia'], dtype=object)"
      ]
     },
     "execution_count": 22,
     "metadata": {},
     "output_type": "execute_result"
    }
   ],
   "source": [
    "df['Product Region'].unique()"
   ]
  },
  {
   "cell_type": "code",
   "execution_count": 23,
   "id": "dde44dc8",
   "metadata": {},
   "outputs": [],
   "source": [
    "df['Region_of_product'] = df['Product Region'].map({'North America':1,'Europe':0,'Asia':2})"
   ]
  },
  {
   "cell_type": "code",
   "execution_count": 24,
   "id": "43544c07",
   "metadata": {},
   "outputs": [
    {
     "data": {
      "text/plain": [
       "array(['Red', 'Blue', 'Yellow', 'Black', 'Green', 'Orange', 'White',\n",
       "       'Silver'], dtype=object)"
      ]
     },
     "execution_count": 24,
     "metadata": {},
     "output_type": "execute_result"
    }
   ],
   "source": [
    "df['Product Color'].unique()"
   ]
  },
  {
   "cell_type": "code",
   "execution_count": 25,
   "id": "6b3f0bb8",
   "metadata": {},
   "outputs": [],
   "source": [
    "df['Colour_of_product'] = df['Product Color'].map({'Red':1,'Blue':0,'Yellow':2,'Black':3,'Green':4,'Orange':5,'White':6,'Silver':7})"
   ]
  },
  {
   "cell_type": "code",
   "execution_count": 51,
   "id": "545cf2af",
   "metadata": {},
   "outputs": [
    {
     "data": {
      "text/plain": [
       "array(['John Doe', 'Jane Smith', 'Jack Williams', 'Mary Johnson',\n",
       "       'Robert Brown', 'Emily Taylor', 'David Miller', 'Sarah Wilson',\n",
       "       'James Moore', 'Lily Smith', 'William Brown', 'Emma Jones',\n",
       "       'Jack Davis', 'Sophia Williams', 'Michael Johnson',\n",
       "       'Olivia Wilson', 'Ethan Taylor', 'Ava Thomas', 'Isabella Jackson',\n",
       "       'Amelia Anderson', 'Liam Carter', 'Sophia Davis',\n",
       "       'Benjamin Williams', 'Mia Wilson', 'Noah Johnson',\n",
       "       'Harper Thompson', 'Ava Martinez', 'Isabella Smith', 'Liam Davis',\n",
       "       'Mia Jackson', 'Ava Wilson', 'Sophia Taylor', 'Benjamin Thompson',\n",
       "       'Harper Martinez', 'Ethan Smith', 'Isabella Davis', 'Liam Johnson',\n",
       "       'Noah Taylor', 'Sophia Thompson', 'Benjamin Martinez',\n",
       "       'Harper Smith', 'Ethan Davis'], dtype=object)"
      ]
     },
     "execution_count": 51,
     "metadata": {},
     "output_type": "execute_result"
    }
   ],
   "source": [
    "df['Customer Name'].unique()"
   ]
  },
  {
   "cell_type": "code",
   "execution_count": 56,
   "id": "875c107d",
   "metadata": {},
   "outputs": [],
   "source": [
    "df['Name_Of_Customer'] = df['Customer Name'].map({'John Doe':0,'Jane Smith':1,'Jack Williams':3,'Mary Johnson':4,'Robert Brown':5,'Emily Taylor':6,'David Miller':7,'Sarah Wilson':8,'James Moore':9,'Lily Smith':10,'William Brown':11,'Emma Jones':12,'Jack Davis':13,'Sophia Williams':14,'Michael Johnson':15,'Olivia Wilson':16,'Ethan Taylor':17,'Ava Thomas':18,'Isabella Jackson':19,'Amelia Anderson':20,'Liam Carter':21,'Sophia Davis':22,'Benjamin Williams':23,'Mia Wilson':24,'Noah Johnson':25,'Harper Thompson':26,'Ava Martinez':27,'Isabella Smith':28,'Liam Davis':29,'Mia Jackson':30,'Ava Wilson':31,'Sophia Taylor':32,'Benjamin Thompson':33,'Harper Martinez':34,'Ethan Smith':35,'Isabella Davis':36,'Liam Johnson':37,'Noah Taylor':38,'Sophia Thompson':39,'Benjamin Martinez':40,'Harper Smith':41,'Ethan Davis':42})"
   ]
  },
  {
   "cell_type": "code",
   "execution_count": 28,
   "id": "119a31cf",
   "metadata": {},
   "outputs": [
    {
     "data": {
      "text/plain": [
       "array([' USA', ' UK', ' Japan', ' Germany', ' Spain', ' China', ' France',\n",
       "       ' Italy', ' South Korea', ' Greece', ' India', ' Ireland',\n",
       "       ' Taiwan', ' Canada', ' England', ' Poland', ' Portugal',\n",
       "       ' Netherlands', ' Australia'], dtype=object)"
      ]
     },
     "execution_count": 28,
     "metadata": {},
     "output_type": "execute_result"
    }
   ],
   "source": [
    "df['Customer Location'].unique()"
   ]
  },
  {
   "cell_type": "code",
   "execution_count": 29,
   "id": "42fc1d64",
   "metadata": {},
   "outputs": [],
   "source": [
    "df['Location_Of_Customer'] = df['Customer Location'].map({'USA':0,'UK':1,'Japan':2,'Germany':3,'Spain':4,'China':5,'France':6,'Italy':7,'South Korea':8,'Greece':9,'India':10,'Ireland':11,'Taiwan':12,'Canada':13,'England':14,'Poland':15,'Portugal':16,'Netherlands':17,'Australia':18})"
   ]
  },
  {
   "cell_type": "code",
   "execution_count": 31,
   "id": "bfab6f4f",
   "metadata": {},
   "outputs": [
    {
     "data": {
      "text/plain": [
       "array(['Shipped', 'Processing', 'Cancelled'], dtype=object)"
      ]
     },
     "execution_count": 31,
     "metadata": {},
     "output_type": "execute_result"
    }
   ],
   "source": [
    "df['Order Status'].unique()"
   ]
  },
  {
   "cell_type": "code",
   "execution_count": 32,
   "id": "739ced96",
   "metadata": {},
   "outputs": [],
   "source": [
    "df['Status_Of_Order'] = df['Order Status'].map({'Shipped':0,'Processing':1,'Cancelled':2})"
   ]
  },
  {
   "cell_type": "code",
   "execution_count": 33,
   "id": "4b1deccc",
   "metadata": {},
   "outputs": [
    {
     "data": {
      "text/plain": [
       "array(['Credit Card', 'PayPal'], dtype=object)"
      ]
     },
     "execution_count": 33,
     "metadata": {},
     "output_type": "execute_result"
    }
   ],
   "source": [
    "df['Payment Method'].unique()"
   ]
  },
  {
   "cell_type": "code",
   "execution_count": 34,
   "id": "8f76b6ad",
   "metadata": {},
   "outputs": [],
   "source": [
    "df['Method_Of_Payment'] = df['Payment Method'].map({'Credit Card':0,'PayPal':1})"
   ]
  },
  {
   "cell_type": "code",
   "execution_count": 35,
   "id": "3ad8243c",
   "metadata": {},
   "outputs": [
    {
     "data": {
      "text/plain": [
       "array(['Ground', 'Air'], dtype=object)"
      ]
     },
     "execution_count": 35,
     "metadata": {},
     "output_type": "execute_result"
    }
   ],
   "source": [
    "df['Shipping Method'].unique()"
   ]
  },
  {
   "cell_type": "code",
   "execution_count": 36,
   "id": "ec0a706f",
   "metadata": {},
   "outputs": [],
   "source": [
    "df['Method_Of_Shipment'] = df['Shipping Method'].map({'Ground':0,'Air':1})"
   ]
  },
  {
   "cell_type": "code",
   "execution_count": 37,
   "id": "051952d5",
   "metadata": {},
   "outputs": [
    {
     "data": {
      "text/plain": [
       "array(['Positive', 'Neutral', 'Negative'], dtype=object)"
      ]
     },
     "execution_count": 37,
     "metadata": {},
     "output_type": "execute_result"
    }
   ],
   "source": [
    "df['Customer Feedback'].unique()"
   ]
  },
  {
   "cell_type": "code",
   "execution_count": 38,
   "id": "273263a1",
   "metadata": {},
   "outputs": [],
   "source": [
    "df['Feedback_Of_Customer'] = df['Customer Feedback'].map({'Positive':0,'Neutral':1,'Negative':2})"
   ]
  },
  {
   "cell_type": "code",
   "execution_count": 57,
   "id": "8beb5f7c",
   "metadata": {},
   "outputs": [
    {
     "data": {
      "text/html": [
       "<div>\n",
       "<style scoped>\n",
       "    .dataframe tbody tr th:only-of-type {\n",
       "        vertical-align: middle;\n",
       "    }\n",
       "\n",
       "    .dataframe tbody tr th {\n",
       "        vertical-align: top;\n",
       "    }\n",
       "\n",
       "    .dataframe thead th {\n",
       "        text-align: right;\n",
       "    }\n",
       "</style>\n",
       "<table border=\"1\" class=\"dataframe\">\n",
       "  <thead>\n",
       "    <tr style=\"text-align: right;\">\n",
       "      <th></th>\n",
       "      <th>Product ID</th>\n",
       "      <th>Product Price</th>\n",
       "      <th>Product Weight</th>\n",
       "      <th>Product Stock</th>\n",
       "      <th>Order ID</th>\n",
       "      <th>Customer ID</th>\n",
       "      <th>Customer Name</th>\n",
       "      <th>Original Order Date</th>\n",
       "      <th>Order Quantity</th>\n",
       "      <th>Order Total</th>\n",
       "      <th>...</th>\n",
       "      <th>Category_of_product</th>\n",
       "      <th>Size_of_product</th>\n",
       "      <th>Region_of_product</th>\n",
       "      <th>Colour_of_product</th>\n",
       "      <th>Name_Of_Customer</th>\n",
       "      <th>Location_Of_Customer</th>\n",
       "      <th>Status_Of_Order</th>\n",
       "      <th>Method_Of_Payment</th>\n",
       "      <th>Method_Of_Shipment</th>\n",
       "      <th>Feedback_Of_Customer</th>\n",
       "    </tr>\n",
       "  </thead>\n",
       "  <tbody>\n",
       "    <tr>\n",
       "      <th>0</th>\n",
       "      <td>1001</td>\n",
       "      <td>1200</td>\n",
       "      <td>25</td>\n",
       "      <td>40</td>\n",
       "      <td>2001</td>\n",
       "      <td>3001</td>\n",
       "      <td>John Doe</td>\n",
       "      <td>2023-04-01</td>\n",
       "      <td>4</td>\n",
       "      <td>4800</td>\n",
       "      <td>...</td>\n",
       "      <td>0</td>\n",
       "      <td>1</td>\n",
       "      <td>1</td>\n",
       "      <td>1</td>\n",
       "      <td>0</td>\n",
       "      <td>NaN</td>\n",
       "      <td>0</td>\n",
       "      <td>0</td>\n",
       "      <td>0</td>\n",
       "      <td>0</td>\n",
       "    </tr>\n",
       "    <tr>\n",
       "      <th>1</th>\n",
       "      <td>1002</td>\n",
       "      <td>1500</td>\n",
       "      <td>22</td>\n",
       "      <td>34</td>\n",
       "      <td>2002</td>\n",
       "      <td>3002</td>\n",
       "      <td>Jane Smith</td>\n",
       "      <td>2023-04-02</td>\n",
       "      <td>2</td>\n",
       "      <td>3000</td>\n",
       "      <td>...</td>\n",
       "      <td>0</td>\n",
       "      <td>0</td>\n",
       "      <td>0</td>\n",
       "      <td>0</td>\n",
       "      <td>1</td>\n",
       "      <td>NaN</td>\n",
       "      <td>1</td>\n",
       "      <td>1</td>\n",
       "      <td>1</td>\n",
       "      <td>1</td>\n",
       "    </tr>\n",
       "    <tr>\n",
       "      <th>2</th>\n",
       "      <td>1003</td>\n",
       "      <td>1800</td>\n",
       "      <td>18</td>\n",
       "      <td>27</td>\n",
       "      <td>2003</td>\n",
       "      <td>3003</td>\n",
       "      <td>Jack Williams</td>\n",
       "      <td>2023-04-03</td>\n",
       "      <td>1</td>\n",
       "      <td>1800</td>\n",
       "      <td>...</td>\n",
       "      <td>1</td>\n",
       "      <td>1</td>\n",
       "      <td>2</td>\n",
       "      <td>2</td>\n",
       "      <td>3</td>\n",
       "      <td>NaN</td>\n",
       "      <td>2</td>\n",
       "      <td>0</td>\n",
       "      <td>0</td>\n",
       "      <td>0</td>\n",
       "    </tr>\n",
       "    <tr>\n",
       "      <th>3</th>\n",
       "      <td>1004</td>\n",
       "      <td>2100</td>\n",
       "      <td>16</td>\n",
       "      <td>30</td>\n",
       "      <td>2004</td>\n",
       "      <td>3004</td>\n",
       "      <td>Mary Johnson</td>\n",
       "      <td>2023-04-04</td>\n",
       "      <td>2</td>\n",
       "      <td>4200</td>\n",
       "      <td>...</td>\n",
       "      <td>1</td>\n",
       "      <td>0</td>\n",
       "      <td>1</td>\n",
       "      <td>3</td>\n",
       "      <td>4</td>\n",
       "      <td>NaN</td>\n",
       "      <td>0</td>\n",
       "      <td>0</td>\n",
       "      <td>1</td>\n",
       "      <td>2</td>\n",
       "    </tr>\n",
       "    <tr>\n",
       "      <th>4</th>\n",
       "      <td>1005</td>\n",
       "      <td>1300</td>\n",
       "      <td>27</td>\n",
       "      <td>25</td>\n",
       "      <td>2005</td>\n",
       "      <td>3005</td>\n",
       "      <td>Robert Brown</td>\n",
       "      <td>2023-04-05</td>\n",
       "      <td>1</td>\n",
       "      <td>1300</td>\n",
       "      <td>...</td>\n",
       "      <td>2</td>\n",
       "      <td>1</td>\n",
       "      <td>0</td>\n",
       "      <td>4</td>\n",
       "      <td>5</td>\n",
       "      <td>NaN</td>\n",
       "      <td>1</td>\n",
       "      <td>1</td>\n",
       "      <td>0</td>\n",
       "      <td>0</td>\n",
       "    </tr>\n",
       "    <tr>\n",
       "      <th>5</th>\n",
       "      <td>1006</td>\n",
       "      <td>1600</td>\n",
       "      <td>24</td>\n",
       "      <td>12</td>\n",
       "      <td>2006</td>\n",
       "      <td>3006</td>\n",
       "      <td>Emily Taylor</td>\n",
       "      <td>2023-04-06</td>\n",
       "      <td>3</td>\n",
       "      <td>4800</td>\n",
       "      <td>...</td>\n",
       "      <td>2</td>\n",
       "      <td>0</td>\n",
       "      <td>0</td>\n",
       "      <td>1</td>\n",
       "      <td>6</td>\n",
       "      <td>NaN</td>\n",
       "      <td>0</td>\n",
       "      <td>0</td>\n",
       "      <td>1</td>\n",
       "      <td>0</td>\n",
       "    </tr>\n",
       "    <tr>\n",
       "      <th>6</th>\n",
       "      <td>1007</td>\n",
       "      <td>2200</td>\n",
       "      <td>29</td>\n",
       "      <td>12</td>\n",
       "      <td>2007</td>\n",
       "      <td>3007</td>\n",
       "      <td>David Miller</td>\n",
       "      <td>2023-04-07</td>\n",
       "      <td>2</td>\n",
       "      <td>4400</td>\n",
       "      <td>...</td>\n",
       "      <td>0</td>\n",
       "      <td>1</td>\n",
       "      <td>2</td>\n",
       "      <td>5</td>\n",
       "      <td>7</td>\n",
       "      <td>NaN</td>\n",
       "      <td>0</td>\n",
       "      <td>1</td>\n",
       "      <td>0</td>\n",
       "      <td>2</td>\n",
       "    </tr>\n",
       "    <tr>\n",
       "      <th>7</th>\n",
       "      <td>1008</td>\n",
       "      <td>2500</td>\n",
       "      <td>27</td>\n",
       "      <td>20</td>\n",
       "      <td>2008</td>\n",
       "      <td>3008</td>\n",
       "      <td>Sarah Wilson</td>\n",
       "      <td>2023-04-08</td>\n",
       "      <td>4</td>\n",
       "      <td>10000</td>\n",
       "      <td>...</td>\n",
       "      <td>0</td>\n",
       "      <td>0</td>\n",
       "      <td>1</td>\n",
       "      <td>6</td>\n",
       "      <td>8</td>\n",
       "      <td>NaN</td>\n",
       "      <td>1</td>\n",
       "      <td>0</td>\n",
       "      <td>1</td>\n",
       "      <td>0</td>\n",
       "    </tr>\n",
       "    <tr>\n",
       "      <th>8</th>\n",
       "      <td>1021</td>\n",
       "      <td>1100</td>\n",
       "      <td>24</td>\n",
       "      <td>21</td>\n",
       "      <td>2021</td>\n",
       "      <td>3021</td>\n",
       "      <td>James Moore</td>\n",
       "      <td>2023-04-21</td>\n",
       "      <td>5</td>\n",
       "      <td>5500</td>\n",
       "      <td>...</td>\n",
       "      <td>0</td>\n",
       "      <td>1</td>\n",
       "      <td>0</td>\n",
       "      <td>0</td>\n",
       "      <td>9</td>\n",
       "      <td>NaN</td>\n",
       "      <td>0</td>\n",
       "      <td>0</td>\n",
       "      <td>0</td>\n",
       "      <td>1</td>\n",
       "    </tr>\n",
       "    <tr>\n",
       "      <th>9</th>\n",
       "      <td>1022</td>\n",
       "      <td>1400</td>\n",
       "      <td>21</td>\n",
       "      <td>18</td>\n",
       "      <td>2022</td>\n",
       "      <td>3022</td>\n",
       "      <td>Lily Smith</td>\n",
       "      <td>2023-04-22</td>\n",
       "      <td>1</td>\n",
       "      <td>1400</td>\n",
       "      <td>...</td>\n",
       "      <td>0</td>\n",
       "      <td>0</td>\n",
       "      <td>0</td>\n",
       "      <td>1</td>\n",
       "      <td>10</td>\n",
       "      <td>NaN</td>\n",
       "      <td>1</td>\n",
       "      <td>1</td>\n",
       "      <td>1</td>\n",
       "      <td>0</td>\n",
       "    </tr>\n",
       "  </tbody>\n",
       "</table>\n",
       "<p>10 rows × 25 columns</p>\n",
       "</div>"
      ],
      "text/plain": [
       "   Product ID  Product Price  Product Weight  Product Stock  Order ID  \\\n",
       "0        1001           1200              25             40      2001   \n",
       "1        1002           1500              22             34      2002   \n",
       "2        1003           1800              18             27      2003   \n",
       "3        1004           2100              16             30      2004   \n",
       "4        1005           1300              27             25      2005   \n",
       "5        1006           1600              24             12      2006   \n",
       "6        1007           2200              29             12      2007   \n",
       "7        1008           2500              27             20      2008   \n",
       "8        1021           1100              24             21      2021   \n",
       "9        1022           1400              21             18      2022   \n",
       "\n",
       "   Customer ID  Customer Name Original Order Date  Order Quantity  \\\n",
       "0         3001       John Doe          2023-04-01               4   \n",
       "1         3002     Jane Smith          2023-04-02               2   \n",
       "2         3003  Jack Williams          2023-04-03               1   \n",
       "3         3004   Mary Johnson          2023-04-04               2   \n",
       "4         3005   Robert Brown          2023-04-05               1   \n",
       "5         3006   Emily Taylor          2023-04-06               3   \n",
       "6         3007   David Miller          2023-04-07               2   \n",
       "7         3008   Sarah Wilson          2023-04-08               4   \n",
       "8         3021    James Moore          2023-04-21               5   \n",
       "9         3022     Lily Smith          2023-04-22               1   \n",
       "\n",
       "   Order Total  ...  Category_of_product Size_of_product Region_of_product  \\\n",
       "0         4800  ...                    0               1                 1   \n",
       "1         3000  ...                    0               0                 0   \n",
       "2         1800  ...                    1               1                 2   \n",
       "3         4200  ...                    1               0                 1   \n",
       "4         1300  ...                    2               1                 0   \n",
       "5         4800  ...                    2               0                 0   \n",
       "6         4400  ...                    0               1                 2   \n",
       "7        10000  ...                    0               0                 1   \n",
       "8         5500  ...                    0               1                 0   \n",
       "9         1400  ...                    0               0                 0   \n",
       "\n",
       "   Colour_of_product  Name_Of_Customer  Location_Of_Customer  Status_Of_Order  \\\n",
       "0                  1                 0                   NaN                0   \n",
       "1                  0                 1                   NaN                1   \n",
       "2                  2                 3                   NaN                2   \n",
       "3                  3                 4                   NaN                0   \n",
       "4                  4                 5                   NaN                1   \n",
       "5                  1                 6                   NaN                0   \n",
       "6                  5                 7                   NaN                0   \n",
       "7                  6                 8                   NaN                1   \n",
       "8                  0                 9                   NaN                0   \n",
       "9                  1                10                   NaN                1   \n",
       "\n",
       "   Method_Of_Payment  Method_Of_Shipment  Feedback_Of_Customer  \n",
       "0                  0                   0                     0  \n",
       "1                  1                   1                     1  \n",
       "2                  0                   0                     0  \n",
       "3                  0                   1                     2  \n",
       "4                  1                   0                     0  \n",
       "5                  0                   1                     0  \n",
       "6                  1                   0                     2  \n",
       "7                  0                   1                     0  \n",
       "8                  0                   0                     1  \n",
       "9                  1                   1                     0  \n",
       "\n",
       "[10 rows x 25 columns]"
      ]
     },
     "execution_count": 57,
     "metadata": {},
     "output_type": "execute_result"
    }
   ],
   "source": [
    "df.head(10)"
   ]
  },
  {
   "cell_type": "code",
   "execution_count": 40,
   "id": "056b4b4f",
   "metadata": {},
   "outputs": [],
   "source": [
    "df = df.drop(['Product Category','Product Subcategory','Product Name','Product Size','Customer Location','Order Status','Payment Method','Shipping Method','Customer Feedback','Product Color','Product Size','Product Description','Product Region'],axis=1)"
   ]
  },
  {
   "cell_type": "code",
   "execution_count": 58,
   "id": "f74ca342",
   "metadata": {},
   "outputs": [
    {
     "name": "stdout",
     "output_type": "stream",
     "text": [
      "<class 'pandas.core.frame.DataFrame'>\n",
      "RangeIndex: 80 entries, 0 to 79\n",
      "Data columns (total 25 columns):\n",
      " #   Column                   Non-Null Count  Dtype         \n",
      "---  ------                   --------------  -----         \n",
      " 0   Product ID               80 non-null     int64         \n",
      " 1   Product Price            80 non-null     int64         \n",
      " 2   Product Weight           80 non-null     int64         \n",
      " 3   Product Stock            80 non-null     int64         \n",
      " 4   Order ID                 80 non-null     int64         \n",
      " 5   Customer ID              80 non-null     int64         \n",
      " 6   Customer Name            80 non-null     object        \n",
      " 7   Original Order Date      80 non-null     datetime64[ns]\n",
      " 8   Order Quantity           80 non-null     int64         \n",
      " 9   Order Total              80 non-null     int64         \n",
      " 10  Shipping Time (in Days)  80 non-null     int64         \n",
      " 11  Estimated Delivery Date  80 non-null     datetime64[ns]\n",
      " 12  Order Date               80 non-null     datetime64[ns]\n",
      " 13  Subcategory-of_product   74 non-null     float64       \n",
      " 14  Name_Of_Product          80 non-null     int64         \n",
      " 15  Category_of_product      80 non-null     int64         \n",
      " 16  Size_of_product          80 non-null     int64         \n",
      " 17  Region_of_product        80 non-null     int64         \n",
      " 18  Colour_of_product        80 non-null     int64         \n",
      " 19  Name_Of_Customer         80 non-null     int64         \n",
      " 20  Location_Of_Customer     0 non-null      float64       \n",
      " 21  Status_Of_Order          80 non-null     int64         \n",
      " 22  Method_Of_Payment        80 non-null     int64         \n",
      " 23  Method_Of_Shipment       80 non-null     int64         \n",
      " 24  Feedback_Of_Customer     80 non-null     int64         \n",
      "dtypes: datetime64[ns](3), float64(2), int64(19), object(1)\n",
      "memory usage: 15.8+ KB\n"
     ]
    }
   ],
   "source": [
    "df.info()"
   ]
  },
  {
   "cell_type": "code",
   "execution_count": 42,
   "id": "80669ea5",
   "metadata": {},
   "outputs": [
    {
     "data": {
      "text/plain": [
       "Product ID                  0\n",
       "Product Price               0\n",
       "Product Weight              0\n",
       "Product Stock               0\n",
       "Order ID                    0\n",
       "Customer ID                 0\n",
       "Customer Name               0\n",
       "Original Order Date         0\n",
       "Order Quantity              0\n",
       "Order Total                 0\n",
       "Shipping Time (in Days)     0\n",
       "Estimated Delivery Date     0\n",
       "Order Date                  0\n",
       "Subcategory-of_product      6\n",
       "Name_Of_Product             0\n",
       "Category_of_product         0\n",
       "Size_of_product             0\n",
       "Region_of_product           0\n",
       "Colour_of_product           0\n",
       "Name_Of_Customer            0\n",
       "Location_Of_Customer       80\n",
       "Status_Of_Order             0\n",
       "Method_Of_Payment           0\n",
       "Method_Of_Shipment          0\n",
       "Feedback_Of_Customer        0\n",
       "dtype: int64"
      ]
     },
     "execution_count": 42,
     "metadata": {},
     "output_type": "execute_result"
    }
   ],
   "source": [
    "df.isnull().sum()"
   ]
  },
  {
   "cell_type": "code",
   "execution_count": 59,
   "id": "838d4eaf",
   "metadata": {},
   "outputs": [
    {
     "data": {
      "text/plain": [
       "Index(['Product ID', 'Product Price', 'Product Weight', 'Product Stock',\n",
       "       'Order ID', 'Customer ID', 'Customer Name', 'Original Order Date',\n",
       "       'Order Quantity', 'Order Total', 'Shipping Time (in Days)',\n",
       "       'Estimated Delivery Date', 'Order Date', 'Subcategory-of_product',\n",
       "       'Name_Of_Product', 'Category_of_product', 'Size_of_product',\n",
       "       'Region_of_product', 'Colour_of_product', 'Name_Of_Customer',\n",
       "       'Location_Of_Customer', 'Status_Of_Order', 'Method_Of_Payment',\n",
       "       'Method_Of_Shipment', 'Feedback_Of_Customer'],\n",
       "      dtype='object')"
      ]
     },
     "execution_count": 59,
     "metadata": {},
     "output_type": "execute_result"
    }
   ],
   "source": [
    "df.columns"
   ]
  },
  {
   "cell_type": "code",
   "execution_count": 60,
   "id": "41e55d5b",
   "metadata": {
    "scrolled": true
   },
   "outputs": [
    {
     "data": {
      "text/html": [
       "<div>\n",
       "<style scoped>\n",
       "    .dataframe tbody tr th:only-of-type {\n",
       "        vertical-align: middle;\n",
       "    }\n",
       "\n",
       "    .dataframe tbody tr th {\n",
       "        vertical-align: top;\n",
       "    }\n",
       "\n",
       "    .dataframe thead th {\n",
       "        text-align: right;\n",
       "    }\n",
       "</style>\n",
       "<table border=\"1\" class=\"dataframe\">\n",
       "  <thead>\n",
       "    <tr style=\"text-align: right;\">\n",
       "      <th></th>\n",
       "      <th>Product ID</th>\n",
       "      <th>Product Price</th>\n",
       "      <th>Product Weight</th>\n",
       "      <th>Product Stock</th>\n",
       "      <th>Order ID</th>\n",
       "      <th>Customer ID</th>\n",
       "      <th>Customer Name</th>\n",
       "      <th>Original Order Date</th>\n",
       "      <th>Order Quantity</th>\n",
       "      <th>Order Total</th>\n",
       "      <th>...</th>\n",
       "      <th>Category_of_product</th>\n",
       "      <th>Size_of_product</th>\n",
       "      <th>Region_of_product</th>\n",
       "      <th>Colour_of_product</th>\n",
       "      <th>Name_Of_Customer</th>\n",
       "      <th>Location_Of_Customer</th>\n",
       "      <th>Status_Of_Order</th>\n",
       "      <th>Method_Of_Payment</th>\n",
       "      <th>Method_Of_Shipment</th>\n",
       "      <th>Feedback_Of_Customer</th>\n",
       "    </tr>\n",
       "  </thead>\n",
       "  <tbody>\n",
       "    <tr>\n",
       "      <th>0</th>\n",
       "      <td>1001</td>\n",
       "      <td>1200</td>\n",
       "      <td>25</td>\n",
       "      <td>40</td>\n",
       "      <td>2001</td>\n",
       "      <td>3001</td>\n",
       "      <td>John Doe</td>\n",
       "      <td>2023-04-01</td>\n",
       "      <td>4</td>\n",
       "      <td>4800</td>\n",
       "      <td>...</td>\n",
       "      <td>0</td>\n",
       "      <td>1</td>\n",
       "      <td>1</td>\n",
       "      <td>1</td>\n",
       "      <td>0</td>\n",
       "      <td>NaN</td>\n",
       "      <td>0</td>\n",
       "      <td>0</td>\n",
       "      <td>0</td>\n",
       "      <td>0</td>\n",
       "    </tr>\n",
       "    <tr>\n",
       "      <th>1</th>\n",
       "      <td>1002</td>\n",
       "      <td>1500</td>\n",
       "      <td>22</td>\n",
       "      <td>34</td>\n",
       "      <td>2002</td>\n",
       "      <td>3002</td>\n",
       "      <td>Jane Smith</td>\n",
       "      <td>2023-04-02</td>\n",
       "      <td>2</td>\n",
       "      <td>3000</td>\n",
       "      <td>...</td>\n",
       "      <td>0</td>\n",
       "      <td>0</td>\n",
       "      <td>0</td>\n",
       "      <td>0</td>\n",
       "      <td>1</td>\n",
       "      <td>NaN</td>\n",
       "      <td>1</td>\n",
       "      <td>1</td>\n",
       "      <td>1</td>\n",
       "      <td>1</td>\n",
       "    </tr>\n",
       "    <tr>\n",
       "      <th>2</th>\n",
       "      <td>1003</td>\n",
       "      <td>1800</td>\n",
       "      <td>18</td>\n",
       "      <td>27</td>\n",
       "      <td>2003</td>\n",
       "      <td>3003</td>\n",
       "      <td>Jack Williams</td>\n",
       "      <td>2023-04-03</td>\n",
       "      <td>1</td>\n",
       "      <td>1800</td>\n",
       "      <td>...</td>\n",
       "      <td>1</td>\n",
       "      <td>1</td>\n",
       "      <td>2</td>\n",
       "      <td>2</td>\n",
       "      <td>3</td>\n",
       "      <td>NaN</td>\n",
       "      <td>2</td>\n",
       "      <td>0</td>\n",
       "      <td>0</td>\n",
       "      <td>0</td>\n",
       "    </tr>\n",
       "    <tr>\n",
       "      <th>3</th>\n",
       "      <td>1004</td>\n",
       "      <td>2100</td>\n",
       "      <td>16</td>\n",
       "      <td>30</td>\n",
       "      <td>2004</td>\n",
       "      <td>3004</td>\n",
       "      <td>Mary Johnson</td>\n",
       "      <td>2023-04-04</td>\n",
       "      <td>2</td>\n",
       "      <td>4200</td>\n",
       "      <td>...</td>\n",
       "      <td>1</td>\n",
       "      <td>0</td>\n",
       "      <td>1</td>\n",
       "      <td>3</td>\n",
       "      <td>4</td>\n",
       "      <td>NaN</td>\n",
       "      <td>0</td>\n",
       "      <td>0</td>\n",
       "      <td>1</td>\n",
       "      <td>2</td>\n",
       "    </tr>\n",
       "    <tr>\n",
       "      <th>4</th>\n",
       "      <td>1005</td>\n",
       "      <td>1300</td>\n",
       "      <td>27</td>\n",
       "      <td>25</td>\n",
       "      <td>2005</td>\n",
       "      <td>3005</td>\n",
       "      <td>Robert Brown</td>\n",
       "      <td>2023-04-05</td>\n",
       "      <td>1</td>\n",
       "      <td>1300</td>\n",
       "      <td>...</td>\n",
       "      <td>2</td>\n",
       "      <td>1</td>\n",
       "      <td>0</td>\n",
       "      <td>4</td>\n",
       "      <td>5</td>\n",
       "      <td>NaN</td>\n",
       "      <td>1</td>\n",
       "      <td>1</td>\n",
       "      <td>0</td>\n",
       "      <td>0</td>\n",
       "    </tr>\n",
       "  </tbody>\n",
       "</table>\n",
       "<p>5 rows × 25 columns</p>\n",
       "</div>"
      ],
      "text/plain": [
       "   Product ID  Product Price  Product Weight  Product Stock  Order ID  \\\n",
       "0        1001           1200              25             40      2001   \n",
       "1        1002           1500              22             34      2002   \n",
       "2        1003           1800              18             27      2003   \n",
       "3        1004           2100              16             30      2004   \n",
       "4        1005           1300              27             25      2005   \n",
       "\n",
       "   Customer ID  Customer Name Original Order Date  Order Quantity  \\\n",
       "0         3001       John Doe          2023-04-01               4   \n",
       "1         3002     Jane Smith          2023-04-02               2   \n",
       "2         3003  Jack Williams          2023-04-03               1   \n",
       "3         3004   Mary Johnson          2023-04-04               2   \n",
       "4         3005   Robert Brown          2023-04-05               1   \n",
       "\n",
       "   Order Total  ...  Category_of_product Size_of_product Region_of_product  \\\n",
       "0         4800  ...                    0               1                 1   \n",
       "1         3000  ...                    0               0                 0   \n",
       "2         1800  ...                    1               1                 2   \n",
       "3         4200  ...                    1               0                 1   \n",
       "4         1300  ...                    2               1                 0   \n",
       "\n",
       "   Colour_of_product  Name_Of_Customer  Location_Of_Customer  Status_Of_Order  \\\n",
       "0                  1                 0                   NaN                0   \n",
       "1                  0                 1                   NaN                1   \n",
       "2                  2                 3                   NaN                2   \n",
       "3                  3                 4                   NaN                0   \n",
       "4                  4                 5                   NaN                1   \n",
       "\n",
       "   Method_Of_Payment  Method_Of_Shipment  Feedback_Of_Customer  \n",
       "0                  0                   0                     0  \n",
       "1                  1                   1                     1  \n",
       "2                  0                   0                     0  \n",
       "3                  0                   1                     2  \n",
       "4                  1                   0                     0  \n",
       "\n",
       "[5 rows x 25 columns]"
      ]
     },
     "execution_count": 60,
     "metadata": {},
     "output_type": "execute_result"
    }
   ],
   "source": [
    "df.head()"
   ]
  },
  {
   "cell_type": "code",
   "execution_count": 61,
   "id": "f6e09f10",
   "metadata": {},
   "outputs": [
    {
     "data": {
      "text/plain": [
       "(80, 25)"
      ]
     },
     "execution_count": 61,
     "metadata": {},
     "output_type": "execute_result"
    }
   ],
   "source": [
    "df.shape"
   ]
  },
  {
   "cell_type": "code",
   "execution_count": 66,
   "id": "e450ad8f",
   "metadata": {},
   "outputs": [
    {
     "data": {
      "image/png": "[encoded data removed]",
      "text/plain": [
       "<Figure size 2000x600 with 2 Axes>"
      ]
     },
     "metadata": {},
     "output_type": "display_data"
    }
   ],
   "source": [
    "# Assuming df is your DataFrame\n",
    "# Drop non-numeric columns or columns with non-numeric data\n",
    "non_numeric_columns = ['Customer Name', 'Original Order Date', 'Estimated Delivery Date',\n",
    "                       'Order Date', 'Subcategory-of_product', 'Name_Of_Product',\n",
    "                       'Category_of_product', 'Size_of_product', 'Region_of_product',\n",
    "                       'Colour_of_product', 'Name_Of_Customer', 'Location_Of_Customer',\n",
    "                       'Status_Of_Order', 'Method_Of_Payment', 'Method_Of_Shipment',\n",
    "                       'Feedback_Of_Customer']\n",
    "numeric_df = df.drop(columns=non_numeric_columns)\n",
    "\n",
    "# Convert remaining columns to numeric type if needed\n",
    "numeric_df = numeric_df.apply(pd.to_numeric, errors='coerce')\n",
    "\n",
    "# Calculate correlation matrix\n",
    "corr_matrix = numeric_df.corr()\n",
    "\n",
    "# Plot the correlation matrix\n",
    "import matplotlib.pyplot as plt\n",
    "import seaborn as sns\n",
    "\n",
    "plt.figure(figsize=(20, 6))\n",
    "corr_viz = sns.heatmap(corr_matrix, annot=True, cmap=\"twilight_shifted\")\n",
    "plt.show()\n"
   ]
  },
  {
   "cell_type": "markdown",
   "id": "0563bb57",
   "metadata": {},
   "source": [
    "# 3.MODEL TRAINING"
   ]
  },
  {
   "cell_type": "markdown",
   "id": "997c68e4",
   "metadata": {},
   "source": [
    "1.Identify yandXvariable \n",
    "2.Split the dataset to fit the model \n",
    "3.Fit the model \n",
    "4.Print the results\n",
    "\n"
   ]
  },
  {
   "cell_type": "code",
   "execution_count": 66,
   "id": "4b1e8430",
   "metadata": {},
   "outputs": [
    {
     "data": {
      "text/plain": [
       "Index(['Product ID', 'Product Price', 'Product Weight', 'Product Stock',\n",
       "       'Order ID', 'Customer ID', 'Customer Name', 'Original Order Date',\n",
       "       'Order Quantity', 'Order Total', 'Shipping Time (in Days)',\n",
       "       'Estimated Delivery Date', 'Order Date'],\n",
       "      dtype='object')"
      ]
     },
     "execution_count": 66,
     "metadata": {},
     "output_type": "execute_result"
    }
   ],
   "source": [
    "df.columns"
   ]
  },
  {
   "cell_type": "code",
   "execution_count": 69,
   "id": "dd395c71",
   "metadata": {},
   "outputs": [
    {
     "name": "stdout",
     "output_type": "stream",
     "text": [
      "Mean Squared Error: 0.8695505974432628\n"
     ]
    }
   ],
   "source": [
    "import pandas as pd\n",
    "from sklearn.model_selection import train_test_split\n",
    "from sklearn.linear_model import LinearRegression\n",
    "from sklearn.metrics import mean_squared_error\n",
    "\n",
    "# Splitting the dataset into features (X) and target variable (y)\n",
    "X = df[['Product Price', 'Product Weight', 'Product Stock', 'Order Total', 'Shipping Time (in Days)']]\n",
    "y = df['Order Quantity']  # Assuming 'Order Quantity' is the target variable\n",
    "\n",
    "# Splitting the data into training and testing sets (80% training, 20% testing)\n",
    "X_train, X_test, y_train, y_test = train_test_split(X, y, test_size=0.2, random_state=42)\n",
    "\n",
    "# Instantiate the model\n",
    "model = LinearRegression()\n",
    "\n",
    "# Train the model\n",
    "model.fit(X_train, y_train)\n",
    "\n",
    "# Make predictions on the test set\n",
    "y_pred = model.predict(X_test)\n",
    "\n",
    "# Evaluate the model\n",
    "mse = mean_squared_error(y_test, y_pred)\n",
    "print(\"Mean Squared Error:\", mse)\n"
   ]
  },
  {
   "cell_type": "code",
   "execution_count": 70,
   "id": "8264a7d7",
   "metadata": {},
   "outputs": [
    {
     "name": "stdout",
     "output_type": "stream",
     "text": [
      "                                 OLS Regression Results                                \n",
      "=======================================================================================\n",
      "Dep. Variable:         Order Quantity   R-squared (uncentered):                   0.973\n",
      "Model:                            OLS   Adj. R-squared (uncentered):              0.970\n",
      "Method:                 Least Squares   F-statistic:                              418.6\n",
      "Date:                Fri, 16 Feb 2024   Prob (F-statistic):                    1.03e-44\n",
      "Time:                        15:38:04   Log-Likelihood:                         -35.617\n",
      "No. Observations:                  64   AIC:                                      81.23\n",
      "Df Residuals:                      59   BIC:                                      92.03\n",
      "Df Model:                           5                                                  \n",
      "Covariance Type:            nonrobust                                                  \n",
      "===========================================================================================\n",
      "                              coef    std err          t      P>|t|      [0.025      0.975]\n",
      "-------------------------------------------------------------------------------------------\n",
      "Product Price              -0.0008      0.000     -7.663      0.000      -0.001      -0.001\n",
      "Product Weight              0.0256      0.009      2.833      0.006       0.008       0.044\n",
      "Product Stock               0.0352      0.006      5.640      0.000       0.023       0.048\n",
      "Order Total                 0.0005   2.08e-05     23.577      0.000       0.000       0.001\n",
      "Shipping Time (in Days)     0.0731      0.037      1.992      0.051      -0.000       0.147\n",
      "==============================================================================\n",
      "Omnibus:                       11.712   Durbin-Watson:                   2.297\n",
      "Prob(Omnibus):                  0.003   Jarque-Bera (JB):               17.279\n",
      "Skew:                           0.646   Prob(JB):                     0.000177\n",
      "Kurtosis:                       5.193   Cond. No.                     3.65e+03\n",
      "==============================================================================\n",
      "\n",
      "Notes:\n",
      "[1] R² is computed without centering (uncentered) since the model does not contain a constant.\n",
      "[2] Standard Errors assume that the covariance matrix of the errors is correctly specified.\n",
      "[3] The condition number is large, 3.65e+03. This might indicate that there are\n",
      "strong multicollinearity or other numerical problems.\n"
     ]
    }
   ],
   "source": [
    "model = sm.OLS(y_train, X_train)\n",
    "result = model.fit()\n",
    "\n",
    "# Print the summary\n",
    "print(result.summary())"
   ]
  },
  {
   "cell_type": "markdown",
   "id": "eb4c5be8",
   "metadata": {},
   "source": [
    "# 4.EVALUATING THE MODEL"
   ]
  },
  {
   "cell_type": "code",
   "execution_count": 72,
   "id": "9a59f31c",
   "metadata": {},
   "outputs": [
    {
     "name": "stdout",
     "output_type": "stream",
     "text": [
      "Mean Squared Error: 0.8695505974432628\n"
     ]
    }
   ],
   "source": [
    "import pandas as pd\n",
    "from sklearn.model_selection import train_test_split\n",
    "from sklearn.linear_model import LinearRegression\n",
    "from sklearn.metrics import mean_squared_error\n",
    "\n",
    "# Assuming your dataset is loaded into a DataFrame called 'df'\n",
    "# If your data is stored in a CSV file, you can load it using pd.read_csv('your_dataset.csv')\n",
    "\n",
    "# Splitting the dataset into features (X) and target variable (y)\n",
    "X = df[['Product Price', 'Product Weight', 'Product Stock', 'Order Total', 'Shipping Time (in Days)']]\n",
    "y = df['Order Quantity']  # Assuming 'Order Quantity' is the target variable\n",
    "\n",
    "# Splitting the data into training and testing sets (80% training, 20% testing)\n",
    "X_train, X_test, y_train, y_test = train_test_split(X, y, test_size=0.2, random_state=42)\n",
    "\n",
    "# Instantiate the model\n",
    "model = LinearRegression()\n",
    "\n",
    "# Train the model\n",
    "model.fit(X_train, y_train)\n",
    "\n",
    "# Make predictions on the test set\n",
    "y_pred = model.predict(X_test)\n",
    "\n",
    "# Evaluate the model\n",
    "mse = mean_squared_error(y_test, y_pred)\n",
    "print(\"Mean Squared Error:\", mse)\n"
   ]
  },
  {
   "cell_type": "markdown",
   "id": "c459f691",
   "metadata": {},
   "source": [
    "5.USE THE MODEL"
   ]
  },
  {
   "cell_type": "markdown",
   "id": "8c1827d9",
   "metadata": {},
   "source": [
    "# Given that the p-value (Prob (F-statistic))is extremely small (1.95e-38), much less than a typical significance level of 0.05, we would reject the null hypothesis.\n",
    "This suggests that at least one of the independent variables in the model has a significant effect on the dependent variable."
   ]
  },
  {
   "cell_type": "markdown",
   "id": "a7d9153a",
   "metadata": {},
   "source": [
    "# 5.USE THE MODEL\n"
   ]
  },
  {
   "cell_type": "markdown",
   "id": "10decea0",
   "metadata": {},
   "source": [
    "# TASK 2"
   ]
  },
  {
   "cell_type": "markdown",
   "id": "157b3db9",
   "metadata": {},
   "source": [
    "Consider the column “Shipping Method”. What would be the appropriate shipping method for a product that is worth $3200, is of size M, originates from Europe, weighs 22 pounds and is destined for a customer in Canada?"
   ]
  },
  {
   "cell_type": "code",
   "execution_count": 73,
   "id": "a792499d",
   "metadata": {},
   "outputs": [
    {
     "name": "stdout",
     "output_type": "stream",
     "text": [
      "Appropriate Shipping Method: Air\n"
     ]
    }
   ],
   "source": [
    "def determine_shipping_method(price, size, origin, weight, destination):\n",
    "    if price >= 3200:  # The condition here should be \"greater than\" or \"equal to\" 3200\n",
    "        return \"Air\"\n",
    "    elif size == \"M\":\n",
    "        if origin == \"Europe\":\n",
    "            if weight <= 20:\n",
    "                if destination == \"Canada\":\n",
    "                    return \"Ground\"\n",
    "                else:\n",
    "                    return \"Air\"\n",
    "            else:\n",
    "                return \"Air\"\n",
    "        else:\n",
    "            return \"Air\"\n",
    "    else:\n",
    "        return \"Ground\"\n",
    "\n",
    "# Test the function with the given information\n",
    "shipping_method = determine_shipping_method(price=3200, size=\"M\", origin=\"Europe\", weight=22, destination=\"Canada\")\n",
    "print(\"Appropriate Shipping Method:\", shipping_method)\n"
   ]
  },
  {
   "cell_type": "markdown",
   "id": "379fa1c7",
   "metadata": {},
   "source": [
    "# TASK 3"
   ]
  },
  {
   "cell_type": "markdown",
   "id": "918f791e",
   "metadata": {},
   "source": [
    "Lastly, consider the column “Product Size”. To what size would you classify the product in Task 2 above?"
   ]
  },
  {
   "cell_type": "markdown",
   "id": "a4f79119",
   "metadata": {},
   "source": [
    "In Task 2, the product size is given as \"M\". So, the product would be classified as size \"M\"\n",
    "\n",
    "Also on Filtering on Excel using the criteria ;\n",
    "\n",
    "1.It is worth $3200, 2.It is of size M 3.Originates from Europe 4.Weighs 22 pounds"
   ]
  },
  {
   "cell_type": "code",
   "execution_count": null,
   "id": "d0777b9d",
   "metadata": {},
   "outputs": [],
   "source": []
  }
 ],
 "metadata": {
  "kernelspec": {
   "display_name": "Python 3 (ipykernel)",
   "language": "python",
   "name": "python3"
  },
  "language_info": {
   "codemirror_mode": {
    "name": "ipython",
    "version": 3
   },
   "file_extension": ".py",
   "mimetype": "text/x-python",
   "name": "python",
   "nbconvert_exporter": "python",
   "pygments_lexer": "ipython3",
   "version": "3.11.5"
  }
 },
 "nbformat": 4,
 "nbformat_minor": 5
}
